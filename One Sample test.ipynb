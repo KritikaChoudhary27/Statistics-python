{
 "cells": [
  {
   "cell_type": "markdown",
   "metadata": {},
   "source": [
    "# Different Tests for means, variance and proportions\n",
    "\n",
    "\n",
    "1. One Sample\n",
    "    1. One sample z Test - taking sample from one source/machine \n",
    "    2. One sample t Test - performing t test when either there is less number of samples(<30) or don't know populations standard deviations\n",
    "    3. One Proportion Test - Compare proportions of sample from lower standard or population\n",
    "    4. One Variance Test -  Compare variance of sample and population\n",
    "2. Two Sample - compare two samples\n",
    "    1. Two sample z Test \n",
    "    2. Two sample t Test\n",
    "    3. Paired t test - before and after result of machine\n",
    "    4. Two Proportion Test\n",
    "    5. Two Variance Test\n",
    "3. More Than 2 sample\n",
    "    * ANOVA \n",
    "    \n",
    "    \n",
    "## Hypothesis test steps-\n",
    "\n",
    "1. State alternate hypothesis\n",
    "2. State the Null Hypothesis\n",
    "3. Select a probability of error level(alpha level). Generally 0.05\n",
    "4. Calculate the test statistic (t or z score)\n",
    "5. Critical test statistic\n",
    "6. Interpret th e results"
   ]
  },
  {
   "cell_type": "code",
   "execution_count": 1,
   "metadata": {
    "id": "F0_ih5c6iaCf"
   },
   "outputs": [],
   "source": [
    "import numpy as np\n",
    "import pandas as pd\n",
    "import matplotlib.pyplot as plt\n",
    "import seaborn as sns\n",
    "from statsmodels.stats import weightstats\n",
    "import scipy.stats as stats"
   ]
  },
  {
   "cell_type": "markdown",
   "metadata": {
    "id": "XCeHnBiKiaCm"
   },
   "source": [
    "# One Sample Z Test \n",
    "\n",
    "### Conditions for doing z test\n",
    "\n",
    "1. Ramdom samples\n",
    "2. Each observation should be independent of other\n",
    "    * Sample with replacement\n",
    "    * If sampling without replacement, the sample size should not be more tha 10%\n",
    "3. Sampling distribution approximates Normal Distribution\n",
    "    * Population is Normally Distributed and the population standard deviation id known ***OR***\n",
    "    * Sample size >= 30\n",
    "    \n",
    "### Example\n",
    "1. Perfumed bottle producing 159cc with sd of 2 cc, 100 bottles are randomly picked and the average volume was found to be 150.2 cc. Has mean volume changed?(95% confidence)\n",
    "\n",
    "        Ha : mean  != 150 cc\n",
    "        alpha = 1-95 = 0.05\n",
    "\n",
    "        Z_calc  = (x — μ) / (σ / √n)\n",
    "                = (150.2-150)/[2/sqrt(100)]\n",
    "                = 0.2/0.2 \n",
    "                = 1\n",
    "---------------   \n",
    "        Reference Table--->\n",
    "            aplha = 0.05 One Tail Z_crit = 1.645\n",
    "            aplha = 0.10 One Tail Z_crit = 1.282\n",
    "            aplha = 0.05 Two Tail Z_crit = 1.960\n",
    "            aplha = 0.10 Two Tail Z_crit = 1.645\n",
    "\n",
    "-----------------\n",
    "\n",
    "        Z_crit = 1.96\n",
    "        Z_calc< Z_crit => Failed to reject null hypothesis\n",
    "\n",
    "2. Perfumed bottle producing 159cc with sd of 2 cc, 100 bottles are randomly picked and the average volume was found to be 150.2 cc. Has mean volume increased?(95% confidence)\n",
    "\n",
    "        Ha : mean > 150 cc\n",
    "        Z_calc  = (150.2-150)/[2/sqrt(100)]\n",
    "                = 0.2/0.2 \n",
    "                = 1\n",
    "                \n",
    "        z_crit =  1.645 \n",
    "        \n",
    "        z_calc < z_crit => Failed to reject null hypothesis\n"
   ]
  },
  {
   "cell_type": "markdown",
   "metadata": {},
   "source": [
    "### Solving example using python"
   ]
  },
  {
   "cell_type": "markdown",
   "metadata": {},
   "source": [
    "1. Loading raw data from machine 1 and understanding data-"
   ]
  },
  {
   "cell_type": "code",
   "execution_count": 3,
   "metadata": {
    "id": "ihS9aAIgiaCm"
   },
   "outputs": [],
   "source": [
    "df = pd.read_csv('C:\\\\Users\\\\Kritika\\\\Desktop\\\\udemy_stats\\\\Machine1.csv')"
   ]
  },
  {
   "cell_type": "code",
   "execution_count": 4,
   "metadata": {},
   "outputs": [
    {
     "data": {
      "text/html": [
       "<div>\n",
       "<style scoped>\n",
       "    .dataframe tbody tr th:only-of-type {\n",
       "        vertical-align: middle;\n",
       "    }\n",
       "\n",
       "    .dataframe tbody tr th {\n",
       "        vertical-align: top;\n",
       "    }\n",
       "\n",
       "    .dataframe thead th {\n",
       "        text-align: right;\n",
       "    }\n",
       "</style>\n",
       "<table border=\"1\" class=\"dataframe\">\n",
       "  <thead>\n",
       "    <tr style=\"text-align: right;\">\n",
       "      <th></th>\n",
       "      <th>Machine 1</th>\n",
       "    </tr>\n",
       "  </thead>\n",
       "  <tbody>\n",
       "    <tr>\n",
       "      <th>0</th>\n",
       "      <td>152.63</td>\n",
       "    </tr>\n",
       "    <tr>\n",
       "      <th>1</th>\n",
       "      <td>152.94</td>\n",
       "    </tr>\n",
       "    <tr>\n",
       "      <th>2</th>\n",
       "      <td>151.29</td>\n",
       "    </tr>\n",
       "    <tr>\n",
       "      <th>3</th>\n",
       "      <td>153.44</td>\n",
       "    </tr>\n",
       "    <tr>\n",
       "      <th>4</th>\n",
       "      <td>148.58</td>\n",
       "    </tr>\n",
       "  </tbody>\n",
       "</table>\n",
       "</div>"
      ],
      "text/plain": [
       "   Machine 1\n",
       "0     152.63\n",
       "1     152.94\n",
       "2     151.29\n",
       "3     153.44\n",
       "4     148.58"
      ]
     },
     "execution_count": 4,
     "metadata": {},
     "output_type": "execute_result"
    }
   ],
   "source": [
    "df.head()"
   ]
  },
  {
   "cell_type": "code",
   "execution_count": 5,
   "metadata": {},
   "outputs": [
    {
     "data": {
      "text/html": [
       "<div>\n",
       "<style scoped>\n",
       "    .dataframe tbody tr th:only-of-type {\n",
       "        vertical-align: middle;\n",
       "    }\n",
       "\n",
       "    .dataframe tbody tr th {\n",
       "        vertical-align: top;\n",
       "    }\n",
       "\n",
       "    .dataframe thead th {\n",
       "        text-align: right;\n",
       "    }\n",
       "</style>\n",
       "<table border=\"1\" class=\"dataframe\">\n",
       "  <thead>\n",
       "    <tr style=\"text-align: right;\">\n",
       "      <th></th>\n",
       "      <th>Machine 1</th>\n",
       "    </tr>\n",
       "  </thead>\n",
       "  <tbody>\n",
       "    <tr>\n",
       "      <th>count</th>\n",
       "      <td>100.000000</td>\n",
       "    </tr>\n",
       "    <tr>\n",
       "      <th>mean</th>\n",
       "      <td>150.203100</td>\n",
       "    </tr>\n",
       "    <tr>\n",
       "      <th>std</th>\n",
       "      <td>2.018812</td>\n",
       "    </tr>\n",
       "    <tr>\n",
       "      <th>min</th>\n",
       "      <td>145.550000</td>\n",
       "    </tr>\n",
       "    <tr>\n",
       "      <th>25%</th>\n",
       "      <td>148.717500</td>\n",
       "    </tr>\n",
       "    <tr>\n",
       "      <th>50%</th>\n",
       "      <td>150.285000</td>\n",
       "    </tr>\n",
       "    <tr>\n",
       "      <th>75%</th>\n",
       "      <td>151.502500</td>\n",
       "    </tr>\n",
       "    <tr>\n",
       "      <th>max</th>\n",
       "      <td>154.550000</td>\n",
       "    </tr>\n",
       "  </tbody>\n",
       "</table>\n",
       "</div>"
      ],
      "text/plain": [
       "        Machine 1\n",
       "count  100.000000\n",
       "mean   150.203100\n",
       "std      2.018812\n",
       "min    145.550000\n",
       "25%    148.717500\n",
       "50%    150.285000\n",
       "75%    151.502500\n",
       "max    154.550000"
      ]
     },
     "execution_count": 5,
     "metadata": {},
     "output_type": "execute_result"
    }
   ],
   "source": [
    "df.describe()"
   ]
  },
  {
   "cell_type": "markdown",
   "metadata": {},
   "source": [
    "2. Understanding the distribution of data-"
   ]
  },
  {
   "cell_type": "code",
   "execution_count": 6,
   "metadata": {},
   "outputs": [
    {
     "data": {
      "image/png": "[encoded data removed]",
      "text/plain": [
       "<Figure size 500x500 with 1 Axes>"
      ]
     },
     "metadata": {},
     "output_type": "display_data"
    }
   ],
   "source": [
    "sns.displot(data = df, x = 'Machine 1')\n",
    "plt.show()"
   ]
  },
  {
   "cell_type": "code",
   "execution_count": 10,
   "metadata": {},
   "outputs": [
    {
     "data": {
      "image/png": "[encoded data removed]",
      "text/plain": [
       "<Figure size 500x500 with 1 Axes>"
      ]
     },
     "metadata": {},
     "output_type": "display_data"
    }
   ],
   "source": [
    "sns.catplot(data = df, y='Machine 1', kind = 'box')\n",
    "plt.show()"
   ]
  },
  {
   "cell_type": "markdown",
   "metadata": {},
   "source": [
    "3. z test"
   ]
  },
  {
   "cell_type": "code",
   "execution_count": 11,
   "metadata": {},
   "outputs": [
    {
     "data": {
      "text/plain": [
       "0     152.63\n",
       "1     152.94\n",
       "2     151.29\n",
       "3     153.44\n",
       "4     148.58\n",
       "       ...  \n",
       "95    150.03\n",
       "96    146.79\n",
       "97    150.02\n",
       "98    146.42\n",
       "99    152.51\n",
       "Name: Machine 1, Length: 100, dtype: float64"
      ]
     },
     "execution_count": 11,
     "metadata": {},
     "output_type": "execute_result"
    }
   ],
   "source": [
    "df['Machine 1']"
   ]
  },
  {
   "cell_type": "code",
   "execution_count": 12,
   "metadata": {},
   "outputs": [
    {
     "data": {
      "text/plain": [
       "(1.0060370247722599, 0.3143977600779597)"
      ]
     },
     "execution_count": 12,
     "metadata": {},
     "output_type": "execute_result"
    }
   ],
   "source": [
    "weightstats.ztest(x1 = df['Machine 1'], value = 150, alternative = 'two-sided')"
   ]
  },
  {
   "cell_type": "markdown",
   "metadata": {},
   "source": [
    "In above result, 1st value is z calculated and 2nd value is p value.\n",
    "p value is 0.314 which is higher than alpha 0.05, therefore failed to reject null hypothesis, i.e., not enough evidence to say volume has changed."
   ]
  },
  {
   "cell_type": "markdown",
   "metadata": {},
   "source": [
    "In scipy library, we don't have z test but has t test. "
   ]
  },
  {
   "cell_type": "markdown",
   "metadata": {},
   "source": [
    "4. One sided tail test\n",
    "- has volume increased-"
   ]
  },
  {
   "cell_type": "code",
   "execution_count": 5,
   "metadata": {
    "id": "yjP0NTkeiaCq"
   },
   "outputs": [
    {
     "data": {
      "text/plain": [
       "(1.0060370247722599, 0.15719888003897986)"
      ]
     },
     "execution_count": 5,
     "metadata": {},
     "output_type": "execute_result"
    }
   ],
   "source": [
    "weightstats.ztest(df['Machine 1'], value=150, alternative='larger')"
   ]
  },
  {
   "cell_type": "markdown",
   "metadata": {},
   "source": [
    "Conclusion-\n",
    "p-value for both two sided and single sided t-test was larger than alpha, therefore volume has not changed\n"
   ]
  },
  {
   "cell_type": "markdown",
   "metadata": {
    "id": "bveewC8biaCq"
   },
   "source": [
    "# One Sample t test\n",
    "\n",
    "### Conditions for performing t-test\n",
    "\n",
    "1. Ramdom samples\n",
    "2. Each observation should be independent of other\n",
    "    * Sample with replacement\n",
    "    * If sampling without replacement, the sample size should not be more tha 10%\n",
    "3. Sampling distribution approximates Normal Distribution\n",
    "    * Population is Normally Distributed and the population standard deviation id unknown ***OR***\n",
    "    * Sample size < 30 \n",
    "    \n",
    "### Example-\n",
    "1. Perfume bottle producing 150cc, 4 bottles are randomly picked and the average volume was found to be 151cc and sd of the sample bottles was 2cc. Has mean volume changed? (95% confidence)\n",
    "            Ha: mean =! 150 cc\n",
    "            alpha = 0.05\n",
    "            t_calc  = (x — μ) / (s / √n), where x is mean of sample, μ is mean volume of population, s is sample std and n is sample size\n",
    "                    = (151-150)/[2/sqrt(4)]\n",
    "                    = 1/1 \n",
    "                    = 1\n",
    "\n",
    "-------\n",
    "Reference for t_critical value, where df represents degree of freedom, i.e., number of items picked-1\n",
    "\n",
    "    aplha = 0.05 | One Tail | Df = 3 | t_crit = 2.353\n",
    "    aplha = 0.05 | Two Tail | Df = 3 | t_crit = 3.182\n",
    "\n",
    "------\n",
    "            t_crit = 3.182\n",
    "            t_calc < t_crit therefore failed to reject null hypothesis\n"
   ]
  },
  {
   "cell_type": "markdown",
   "metadata": {},
   "source": [
    "### Solving example using python"
   ]
  },
  {
   "cell_type": "code",
   "execution_count": 13,
   "metadata": {
    "id": "Gbi12dieiaCr",
    "outputId": "cdb017d9-82f0-4cf0-bafd-04bc4afe12cf",
    "scrolled": true
   },
   "outputs": [
    {
     "data": {
      "text/plain": [
       "count      4.000000\n",
       "mean     151.000000\n",
       "std        2.004994\n",
       "min      148.500000\n",
       "25%      150.300000\n",
       "50%      151.050000\n",
       "75%      151.750000\n",
       "max      153.400000\n",
       "dtype: float64"
      ]
     },
     "execution_count": 13,
     "metadata": {},
     "output_type": "execute_result"
    }
   ],
   "source": [
    "volume = pd.Series([148.5, 153.4, 150.9, 151.2])\n",
    "volume.describe()"
   ]
  },
  {
   "cell_type": "code",
   "execution_count": 14,
   "metadata": {},
   "outputs": [
    {
     "data": {
      "text/plain": [
       "Ttest_1sampResult(statistic=0.997509336107632, pvalue=0.3920333832606524)"
      ]
     },
     "execution_count": 14,
     "metadata": {},
     "output_type": "execute_result"
    }
   ],
   "source": [
    "stats.ttest_1samp(volume, 150)"
   ]
  },
  {
   "cell_type": "markdown",
   "metadata": {
    "id": "V24ay6b8iaCs"
   },
   "source": [
    "# One Proportion Test\n",
    "\n",
    "### Conditions for performing one proportion test\n",
    "\n",
    "1. Ramdom samples\n",
    "2. Each observation should be independent of other\n",
    "   * Sample with replacement\n",
    "   * If sampling without replacement, the sample size should not be more tha 10%\n",
    "3. The data contains only two categories, such as pass/fail or yes/no\n",
    "4. For normal approximation:\n",
    "    * both np>= 10 and n(1-p)>=(data should have at least 10 \"successes\" and at least 10 \"failures\")\n",
    "    \n",
    "### Example\n",
    "1. Smoking rate in a town in past was 21%, 100 samples were picked and found 14 smokers. Has smoking habit changed?\n",
    "\n",
    "    Can Normality assumptions be made?\n",
    "    \n",
    "        * p0 = 0.21, p= 0.14\n",
    "        * np0 = 0.21x100 = 21\n",
    "        * n(1-p0) = 0.79 x 100 = 79\n",
    "        * >= 10 means sample size is sufficient\n",
    "        \n",
    "        H0: p =p0\n",
    "        Ha: p != p0\n",
    "        z_calc= (p-p0)/sqrt(p0(1-p0)/n)\n",
    "              = (0.14-0.21)/sqrt(0.21(1-0.21)/100)\n",
    "              = - 1.719\n",
    "         \n",
    "-----    \n",
    "Reference table- \n",
    "        alpha = 0.05 | One tail | z_crit = 1.645\n",
    "        alpha = 0.10 | One tail | z_crit = 1.282\n",
    "        alpha = 0.05 | Two tail | z_crit = 1.960\n",
    "        alpha = 0.10 | Two tail | z_crit = 1.645\n",
    "        \n",
    "        \n",
    "        z_crit = -1.960 & 1.960\n",
    "        \n",
    "        z_calc in under z_crit. Therefore, failed to reject null hypothesis\n",
    "        \n",
    "        \n",
    "2. Smoking rate in a town in past was 21%, 100 samples were picked and found 14 smokers. Has smoking habit reduced at 95% confidence level?\n",
    "    \n",
    "        H0: p >= p0\n",
    "        Ha: p < p0\n",
    "        z_calc= (p-p0)/sqrt(p0(1-p0)/n)\n",
    "              = (0.14-0.21)/sqrt(0.21(1-0.21)/100)\n",
    "              = - 1.719\n",
    "        z_crit = - 1.645 \n",
    "        \n",
    "        Conclude- there is significant reduction in smoking habit\n",
    "        "
   ]
  },
  {
   "cell_type": "code",
   "execution_count": 15,
   "metadata": {
    "id": "5UsBpFMziaCu",
    "outputId": "3362c165-49eb-4367-9352-e726214cde77"
   },
   "outputs": [
    {
     "data": {
      "text/plain": [
       "0.10920815720825927"
      ]
     },
     "execution_count": 15,
     "metadata": {},
     "output_type": "execute_result"
    }
   ],
   "source": [
    "# Case 1: Has smoking habit changed\n",
    "stats.binom_test(14, 100,p=0.21, alternative = 'two-sided')"
   ]
  },
  {
   "cell_type": "code",
   "execution_count": 16,
   "metadata": {
    "id": "oTWl8lh_iaCu",
    "outputId": "af516787-80a4-4906-ad88-1c5877549f92"
   },
   "outputs": [
    {
     "data": {
      "text/plain": [
       "0.05042460221552124"
      ]
     },
     "execution_count": 16,
     "metadata": {},
     "output_type": "execute_result"
    }
   ],
   "source": [
    "#Case 2: Has smoking reduced? Left tail test\n",
    "# Using Normal Approximation we rejected the Null, but using Binomial we failed to reject.\n",
    "stats.binom_test(14, 100,p=0.21, alternative = 'less')"
   ]
  },
  {
   "cell_type": "markdown",
   "metadata": {},
   "source": [
    "In case2, using binomial distribution we failed to reject null hypothesis where as using approximation, we rejected the null hypothesis. Binomial distribution is more reliable test as we are not approximating anything."
   ]
  },
  {
   "cell_type": "markdown",
   "metadata": {},
   "source": [
    "### Taking real world scenario\n",
    "\n",
    "1. Reading csv file and understanding the data-"
   ]
  },
  {
   "cell_type": "code",
   "execution_count": 17,
   "metadata": {
    "id": "dQoVwWo_iaCu"
   },
   "outputs": [],
   "source": [
    "df = pd.read_csv('C:\\\\Users\\\\Kritika\\\\Desktop\\\\udemy_stats\\\\Smokers.csv')"
   ]
  },
  {
   "cell_type": "code",
   "execution_count": 18,
   "metadata": {},
   "outputs": [
    {
     "data": {
      "text/html": [
       "<div>\n",
       "<style scoped>\n",
       "    .dataframe tbody tr th:only-of-type {\n",
       "        vertical-align: middle;\n",
       "    }\n",
       "\n",
       "    .dataframe tbody tr th {\n",
       "        vertical-align: top;\n",
       "    }\n",
       "\n",
       "    .dataframe thead th {\n",
       "        text-align: right;\n",
       "    }\n",
       "</style>\n",
       "<table border=\"1\" class=\"dataframe\">\n",
       "  <thead>\n",
       "    <tr style=\"text-align: right;\">\n",
       "      <th></th>\n",
       "      <th>Name</th>\n",
       "      <th>Smokers</th>\n",
       "    </tr>\n",
       "  </thead>\n",
       "  <tbody>\n",
       "    <tr>\n",
       "      <th>0</th>\n",
       "      <td>Person 1</td>\n",
       "      <td>No</td>\n",
       "    </tr>\n",
       "    <tr>\n",
       "      <th>1</th>\n",
       "      <td>Person 2</td>\n",
       "      <td>No</td>\n",
       "    </tr>\n",
       "    <tr>\n",
       "      <th>2</th>\n",
       "      <td>Person 3</td>\n",
       "      <td>No</td>\n",
       "    </tr>\n",
       "    <tr>\n",
       "      <th>3</th>\n",
       "      <td>Person 4</td>\n",
       "      <td>Yes</td>\n",
       "    </tr>\n",
       "    <tr>\n",
       "      <th>4</th>\n",
       "      <td>Person 5</td>\n",
       "      <td>No</td>\n",
       "    </tr>\n",
       "    <tr>\n",
       "      <th>...</th>\n",
       "      <td>...</td>\n",
       "      <td>...</td>\n",
       "    </tr>\n",
       "    <tr>\n",
       "      <th>95</th>\n",
       "      <td>Person 96</td>\n",
       "      <td>No</td>\n",
       "    </tr>\n",
       "    <tr>\n",
       "      <th>96</th>\n",
       "      <td>Person 97</td>\n",
       "      <td>No</td>\n",
       "    </tr>\n",
       "    <tr>\n",
       "      <th>97</th>\n",
       "      <td>Person 98</td>\n",
       "      <td>No</td>\n",
       "    </tr>\n",
       "    <tr>\n",
       "      <th>98</th>\n",
       "      <td>Person 99</td>\n",
       "      <td>No</td>\n",
       "    </tr>\n",
       "    <tr>\n",
       "      <th>99</th>\n",
       "      <td>Person 100</td>\n",
       "      <td>No</td>\n",
       "    </tr>\n",
       "  </tbody>\n",
       "</table>\n",
       "<p>100 rows × 2 columns</p>\n",
       "</div>"
      ],
      "text/plain": [
       "          Name Smokers\n",
       "0     Person 1      No\n",
       "1     Person 2      No\n",
       "2     Person 3      No\n",
       "3     Person 4     Yes\n",
       "4     Person 5      No\n",
       "..         ...     ...\n",
       "95   Person 96      No\n",
       "96   Person 97      No\n",
       "97   Person 98      No\n",
       "98   Person 99      No\n",
       "99  Person 100      No\n",
       "\n",
       "[100 rows x 2 columns]"
      ]
     },
     "execution_count": 18,
     "metadata": {},
     "output_type": "execute_result"
    }
   ],
   "source": [
    "df"
   ]
  },
  {
   "cell_type": "code",
   "execution_count": 19,
   "metadata": {
    "id": "FZrT69sRiaCu",
    "outputId": "9dc8d1df-a551-47fd-a55c-26d31d6bab01",
    "scrolled": true
   },
   "outputs": [
    {
     "data": {
      "text/html": [
       "<div>\n",
       "<style scoped>\n",
       "    .dataframe tbody tr th:only-of-type {\n",
       "        vertical-align: middle;\n",
       "    }\n",
       "\n",
       "    .dataframe tbody tr th {\n",
       "        vertical-align: top;\n",
       "    }\n",
       "\n",
       "    .dataframe thead th {\n",
       "        text-align: right;\n",
       "    }\n",
       "</style>\n",
       "<table border=\"1\" class=\"dataframe\">\n",
       "  <thead>\n",
       "    <tr style=\"text-align: right;\">\n",
       "      <th></th>\n",
       "      <th>Name</th>\n",
       "      <th>Smokers</th>\n",
       "    </tr>\n",
       "  </thead>\n",
       "  <tbody>\n",
       "    <tr>\n",
       "      <th>count</th>\n",
       "      <td>100</td>\n",
       "      <td>100</td>\n",
       "    </tr>\n",
       "    <tr>\n",
       "      <th>unique</th>\n",
       "      <td>100</td>\n",
       "      <td>2</td>\n",
       "    </tr>\n",
       "    <tr>\n",
       "      <th>top</th>\n",
       "      <td>Person 1</td>\n",
       "      <td>No</td>\n",
       "    </tr>\n",
       "    <tr>\n",
       "      <th>freq</th>\n",
       "      <td>1</td>\n",
       "      <td>86</td>\n",
       "    </tr>\n",
       "  </tbody>\n",
       "</table>\n",
       "</div>"
      ],
      "text/plain": [
       "            Name Smokers\n",
       "count        100     100\n",
       "unique       100       2\n",
       "top     Person 1      No\n",
       "freq           1      86"
      ]
     },
     "execution_count": 19,
     "metadata": {},
     "output_type": "execute_result"
    }
   ],
   "source": [
    "df.describe()"
   ]
  },
  {
   "cell_type": "markdown",
   "metadata": {},
   "source": [
    "2. Grouping data into yes or no-"
   ]
  },
  {
   "cell_type": "code",
   "execution_count": 20,
   "metadata": {},
   "outputs": [
    {
     "data": {
      "text/html": [
       "<div>\n",
       "<style scoped>\n",
       "    .dataframe tbody tr th:only-of-type {\n",
       "        vertical-align: middle;\n",
       "    }\n",
       "\n",
       "    .dataframe tbody tr th {\n",
       "        vertical-align: top;\n",
       "    }\n",
       "\n",
       "    .dataframe thead th {\n",
       "        text-align: right;\n",
       "    }\n",
       "</style>\n",
       "<table border=\"1\" class=\"dataframe\">\n",
       "  <thead>\n",
       "    <tr style=\"text-align: right;\">\n",
       "      <th></th>\n",
       "      <th>Name</th>\n",
       "    </tr>\n",
       "    <tr>\n",
       "      <th>Smokers</th>\n",
       "      <th></th>\n",
       "    </tr>\n",
       "  </thead>\n",
       "  <tbody>\n",
       "    <tr>\n",
       "      <th>No</th>\n",
       "      <td>86</td>\n",
       "    </tr>\n",
       "    <tr>\n",
       "      <th>Yes</th>\n",
       "      <td>14</td>\n",
       "    </tr>\n",
       "  </tbody>\n",
       "</table>\n",
       "</div>"
      ],
      "text/plain": [
       "         Name\n",
       "Smokers      \n",
       "No         86\n",
       "Yes        14"
      ]
     },
     "execution_count": 20,
     "metadata": {},
     "output_type": "execute_result"
    }
   ],
   "source": [
    "smkr = df.groupby(by='Smokers').count()\n",
    "smkr"
   ]
  },
  {
   "cell_type": "code",
   "execution_count": 21,
   "metadata": {},
   "outputs": [
    {
     "data": {
      "text/html": [
       "<div>\n",
       "<style scoped>\n",
       "    .dataframe tbody tr th:only-of-type {\n",
       "        vertical-align: middle;\n",
       "    }\n",
       "\n",
       "    .dataframe tbody tr th {\n",
       "        vertical-align: top;\n",
       "    }\n",
       "\n",
       "    .dataframe thead th {\n",
       "        text-align: right;\n",
       "    }\n",
       "</style>\n",
       "<table border=\"1\" class=\"dataframe\">\n",
       "  <thead>\n",
       "    <tr style=\"text-align: right;\">\n",
       "      <th></th>\n",
       "      <th>Name</th>\n",
       "    </tr>\n",
       "    <tr>\n",
       "      <th>Smokers</th>\n",
       "      <th></th>\n",
       "    </tr>\n",
       "  </thead>\n",
       "  <tbody>\n",
       "    <tr>\n",
       "      <th>Yes</th>\n",
       "      <td>14</td>\n",
       "    </tr>\n",
       "    <tr>\n",
       "      <th>No</th>\n",
       "      <td>86</td>\n",
       "    </tr>\n",
       "  </tbody>\n",
       "</table>\n",
       "</div>"
      ],
      "text/plain": [
       "         Name\n",
       "Smokers      \n",
       "Yes        14\n",
       "No         86"
      ]
     },
     "execution_count": 21,
     "metadata": {},
     "output_type": "execute_result"
    }
   ],
   "source": [
    "smkr=smkr.reindex(['Yes', 'No'])\n",
    "smkr"
   ]
  },
  {
   "cell_type": "markdown",
   "metadata": {},
   "source": [
    "3. Binomial distribution test-"
   ]
  },
  {
   "cell_type": "code",
   "execution_count": 22,
   "metadata": {},
   "outputs": [
    {
     "data": {
      "text/plain": [
       "array([0.10920816])"
      ]
     },
     "execution_count": 22,
     "metadata": {},
     "output_type": "execute_result"
    }
   ],
   "source": [
    "stats.binom_test(smkr, p=0.21)"
   ]
  },
  {
   "cell_type": "markdown",
   "metadata": {},
   "source": [
    "result= 0.109  < p value.\n",
    "Conclude- failed to reject null hypothesis"
   ]
  },
  {
   "cell_type": "markdown",
   "metadata": {
    "id": "M06zxQOUiaCx"
   },
   "source": [
    "# One Variance Test\n",
    "\n",
    "### Conditions for performing t-test\n",
    "1. Ramdom samples\n",
    "2. Each observation should be independent of other\n",
    "    * Sample with replacement\n",
    "    * If sampling without replacement, the sample size should not be more tha 10%\n",
    "3. Sampling distribution approximates Normal Distribution\n",
    "\n",
    "### Variance tests \n",
    "\n",
    "Variance of population is compared with sample variance.\n",
    "\n",
    "1.  **Chi square test\n",
    "    *  **For testing the population variance against a specified value\n",
    "    * testing goodness of fit of some probability distribution\n",
    "    * testing for independence of two authorities( Contigency Tables)\n",
    "    \n",
    "2. F-test\n",
    "    * for testing equality of two variance from different population\n",
    "    * for testing equality of several means with technique of ANOVA\n",
    "    \n",
    "### Example-\n",
    "1. A sample of 51 bottles was selected. The standard deviation of these 51 bottles was 2.35cc. Has it **increased** from established 2cc? 90% confidence level\n",
    "    \n",
    "        H0: s^2 <= sigma^2\n",
    "        Ha: s^2 > sigma^2\n",
    "        \n",
    "        X^2_calc = (n-1)s^2/sigma^2\n",
    "                 = (50)(2.35)^2/2^2\n",
    "                 = 69.03\n",
    "\n",
    "-----\n",
    "Referencing X^2_crit with 50% degree of freedom-\n",
    "        alpha = 0.10 | One Tail | df = 50 | X^2_crit = 63.17\n",
    "        alpha = 0.10 | Two Tail | df = 50 | X^2_crit = 34.76(left tail) & 67.50(right tail)  --> as value Chi value is not symmetrical around zero.\n",
    "        \n",
    "        \n",
    "         X^2_crit = 63.17\n",
    "         \n",
    "         Since X^2_crit < X^2_calc, we reject null hypothesis, i.e., Variance has increased \n",
    "        \n",
    "2. A sample of 51 bottles was selected. The standard deviation of these 51 bottles was 2.35cc. Has it **changed** from established 2cc? 90% confidence level   \n",
    "        \n",
    "         H0: s^2 <= sigma^2\n",
    "        Ha: s^2 > sigma^2\n",
    "        \n",
    "        X^2_calc = (n-1)s^2/sigma^2\n",
    "                 = (50)(2.35)^2/2^2\n",
    "                 = 69.03\n",
    "        \n",
    "        X^2_crit = 34.76 & 67.50\n",
    "        \n",
    "        Since X^2_crit < X^2_calc, we reject null hypothesis, i.e., Variance has changed from established variance of 2cc"
   ]
  },
  {
   "cell_type": "markdown",
   "metadata": {},
   "source": [
    "### Solving above example using python"
   ]
  },
  {
   "cell_type": "markdown",
   "metadata": {},
   "source": [
    "1. Understanding chi square distribution-"
   ]
  },
  {
   "cell_type": "markdown",
   "metadata": {},
   "source": [
    "Chi_sq_cal = (n-1)s^2 / sigma^2"
   ]
  },
  {
   "cell_type": "code",
   "execution_count": 23,
   "metadata": {
    "scrolled": true
   },
   "outputs": [
    {
     "data": {
      "text/plain": [
       "array([  0.,   1.,   2.,   3.,   4.,   5.,   6.,   7.,   8.,   9.,  10.,\n",
       "        11.,  12.,  13.,  14.,  15.,  16.,  17.,  18.,  19.,  20.,  21.,\n",
       "        22.,  23.,  24.,  25.,  26.,  27.,  28.,  29.,  30.,  31.,  32.,\n",
       "        33.,  34.,  35.,  36.,  37.,  38.,  39.,  40.,  41.,  42.,  43.,\n",
       "        44.,  45.,  46.,  47.,  48.,  49.,  50.,  51.,  52.,  53.,  54.,\n",
       "        55.,  56.,  57.,  58.,  59.,  60.,  61.,  62.,  63.,  64.,  65.,\n",
       "        66.,  67.,  68.,  69.,  70.,  71.,  72.,  73.,  74.,  75.,  76.,\n",
       "        77.,  78.,  79.,  80.,  81.,  82.,  83.,  84.,  85.,  86.,  87.,\n",
       "        88.,  89.,  90.,  91.,  92.,  93.,  94.,  95.,  96.,  97.,  98.,\n",
       "        99., 100.])"
      ]
     },
     "execution_count": 23,
     "metadata": {},
     "output_type": "execute_result"
    }
   ],
   "source": [
    "x_ax = np.linspace(0, 100, 101)\n",
    "x_ax"
   ]
  },
  {
   "cell_type": "code",
   "execution_count": 32,
   "metadata": {},
   "outputs": [],
   "source": [
    "y = stats.chi2.pdf(x_ax, df = 50)"
   ]
  },
  {
   "cell_type": "code",
   "execution_count": 33,
   "metadata": {},
   "outputs": [
    {
     "data": {
      "image/png": "[encoded data removed]",
      "text/plain": [
       "<Figure size 500x500 with 1 Axes>"
      ]
     },
     "metadata": {},
     "output_type": "display_data"
    }
   ],
   "source": [
    "sns.relplot(x=x_ax, y=y, kind ='line')\n",
    "plt.show()"
   ]
  },
  {
   "cell_type": "markdown",
   "metadata": {},
   "source": [
    "2. Solving the example"
   ]
  },
  {
   "cell_type": "code",
   "execution_count": 35,
   "metadata": {},
   "outputs": [
    {
     "data": {
      "text/plain": [
       "69.03125000000001"
      ]
     },
     "execution_count": 35,
     "metadata": {},
     "output_type": "execute_result"
    }
   ],
   "source": [
    "chi_sq_calc = (51-1)*(2.35**2)/(2**2)\n",
    "chi_sq_calc"
   ]
  },
  {
   "cell_type": "markdown",
   "metadata": {},
   "source": [
    "* Calculating critical chi square for one tail test"
   ]
  },
  {
   "cell_type": "code",
   "execution_count": 37,
   "metadata": {},
   "outputs": [
    {
     "data": {
      "text/plain": [
       "63.167121005726315"
      ]
     },
     "execution_count": 37,
     "metadata": {},
     "output_type": "execute_result"
    }
   ],
   "source": [
    "chi_crit = stats.chi2.isf(0.10, 50)\n",
    "chi_crit"
   ]
  },
  {
   "cell_type": "markdown",
   "metadata": {},
   "source": [
    "Conclusion-\n",
    "chi_critical < chi_calculated. Therefore, we reject null hypothesis"
   ]
  }
 ],
 "metadata": {
  "colab": {
   "name": "6.ipynb",
   "provenance": []
  },
  "kernelspec": {
   "display_name": "Python 3 (ipykernel)",
   "language": "python",
   "name": "python3"
  },
  "language_info": {
   "codemirror_mode": {
    "name": "ipython",
    "version": 3
   },
   "file_extension": ".py",
   "mimetype": "text/x-python",
   "name": "python",
   "nbconvert_exporter": "python",
   "pygments_lexer": "ipython3",
   "version": "3.9.13"
  }
 },
 "nbformat": 4,
 "nbformat_minor": 1
}
